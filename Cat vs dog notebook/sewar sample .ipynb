{
 "cells": [
  {
   "cell_type": "code",
   "execution_count": 1,
   "id": "4154133d",
   "metadata": {},
   "outputs": [
    {
     "data": {
      "text/plain": [
       "'\\nMeasuring similarity in two images using Python\\n\\nhttps://towardsdatascience.com/measuring-similarity-in-two-images-using-python-b72233eb53c6\\n'"
      ]
     },
     "execution_count": 1,
     "metadata": {},
     "output_type": "execute_result"
    }
   ],
   "source": [
    "\"\"\"\n",
    "Measuring similarity in two images using Python\n",
    "\n",
    "https://towardsdatascience.com/measuring-similarity-in-two-images-using-python-b72233eb53c6\n",
    "\"\"\"\n"
   ]
  },
  {
   "cell_type": "code",
   "execution_count": 2,
   "id": "bc58ba97",
   "metadata": {},
   "outputs": [
    {
     "data": {
      "text/plain": [
       "'\\n\\nMean Squared Error (MSE)\\nRoot Mean Squared Error (RMSE)\\nPeak Signal-to-Noise Ratio (PSNR)\\nStructural Similarity Index (SSIM)\\nUniversal Quality Image Index (UQI)\\nMulti-scale Structural Similarity Index (MS-SSIM)\\nErreur Relative Globale Adimensionnelle de Synthèse (ERGAS)\\nSpatial Correlation Coefficient (SCC)\\nRelative Average Spectral Error (RASE)\\nSpectral Angle Mapper (SAM)\\nVisual Information Fidelity (VIF)\\nThe sewar library can be used to implement all of these metrics (and a few more).\\n\\n'"
      ]
     },
     "execution_count": 2,
     "metadata": {},
     "output_type": "execute_result"
    }
   ],
   "source": [
    "\"\"\"\n",
    "\n",
    "Mean Squared Error (MSE)\n",
    "Root Mean Squared Error (RMSE)\n",
    "Peak Signal-to-Noise Ratio (PSNR)\n",
    "Structural Similarity Index (SSIM)\n",
    "Universal Quality Image Index (UQI)\n",
    "Multi-scale Structural Similarity Index (MS-SSIM)\n",
    "Erreur Relative Globale Adimensionnelle de Synthèse (ERGAS)\n",
    "Spatial Correlation Coefficient (SCC)\n",
    "Relative Average Spectral Error (RASE)\n",
    "Spectral Angle Mapper (SAM)\n",
    "Visual Information Fidelity (VIF)\n",
    "The sewar library can be used to implement all of these metrics (and a few more).\n",
    "\n",
    "\"\"\""
   ]
  },
  {
   "cell_type": "code",
   "execution_count": 3,
   "id": "a6cc7b81",
   "metadata": {},
   "outputs": [],
   "source": [
    "#pip install sewar"
   ]
  },
  {
   "cell_type": "code",
   "execution_count": 1,
   "id": "5ee6dee1",
   "metadata": {},
   "outputs": [],
   "source": [
    "from sewar.full_ref import mse, rmse, psnr, uqi, ssim, ergas, scc, rase, sam, msssim, vifp\n",
    "import cv2\n",
    "import numpy as np\n",
    "import random\n",
    "import matplotlib.pyplot as plt"
   ]
  },
  {
   "cell_type": "code",
   "execution_count": 23,
   "id": "03411031",
   "metadata": {},
   "outputs": [],
   "source": [
    "def diffr(im1, im2):\n",
    "    print(\"MSE: \", mse(im2,im1))\n",
    "    print(\"RMSE: \", rmse(im2, im1))\n",
    "    print(\"PSNR: \", psnr(im2, im1))\n",
    "    print(\"SSIM: \", ssim(im2, im1))\n",
    "    print(\"UQI: \", uqi(im2, im1))\n",
    "    print(\"MSSSIM: \", msssim(im2, im1))\n",
    "    print(\"ERGAS: \", ergas(im2, im1))\n",
    "    print(\"SCC: \", scc(im2, im1))\n",
    "    print(\"RASE: \", rase(im2, im1))\n",
    "    print(\"SAM: \", sam(im2, im1))\n",
    "    print(\"VIF: \", vifp(im2, im1))\n"
   ]
  },
  {
   "cell_type": "code",
   "execution_count": 2,
   "id": "96aa8d9f",
   "metadata": {},
   "outputs": [],
   "source": [
    "def shuffleImage(im):\n",
    "    im = np.reshape(im, (3072)) # 32 * 32 * 3 = 3072\n",
    "    random.shuffle(im)\n",
    "    im = np.reshape(im, (32, 32, 3))\n",
    "    return im\n"
   ]
  },
  {
   "cell_type": "code",
   "execution_count": 7,
   "id": "3e8f9c27",
   "metadata": {},
   "outputs": [
    {
     "name": "stdout",
     "output_type": "stream",
     "text": [
      "car.png               cat1.png              fighter_aircraft.png\r\n",
      "car1.png              dog.png               fighter_aircraft1.png\r\n",
      "cat.png               dog1.png\r\n"
     ]
    }
   ],
   "source": [
    "!ls *png"
   ]
  },
  {
   "cell_type": "code",
   "execution_count": 8,
   "id": "a05eea6c",
   "metadata": {},
   "outputs": [],
   "source": [
    "dog1 = cv2.imread(\"dog.png\")\n",
    "dog2 = cv2.imread(\"dog1.png\")\n",
    "cat1 = cv2.imread(\"cat.png\")\n",
    "cat2 = cv2.imread(\"cat1.png\")\n",
    "car1 = cv2.imread(\"car.png\")\n",
    "car2 = cv2.imread(\"car1.png\")\n",
    "plane1 = cv2.imread(\"fighter_aircraft.png\")\n",
    "plane2 = cv2.imread(\"fighter_aircraft1.png\")\n",
    "\n",
    "\n",
    "#Copy\n",
    "sdog1 = np.copy(dog1)\n",
    "sdog2 = np.copy(dog2)\n",
    "scat1 = np.copy(cat1)\n",
    "scat2 = np.copy(cat2)\n",
    "scar1 = np.copy(car1)\n",
    "scar2 = np.copy(car2)\n",
    "splane1 = np.copy(plane1)\n",
    "splane2 = np.copy(plane2)\n",
    "\n",
    "#Shuffle\n",
    "sdog1 = shuffleImage(sdog1)\n",
    "sdog2 = shuffleImage(sdog2)\n",
    "scat1 = shuffleImage(scat1)\n",
    "scat2 = shuffleImage(scat2)\n",
    "scar1 = shuffleImage(scar1)\n",
    "scar2 = shuffleImage(scar2)\n",
    "splane1 = shuffleImage(splane1)\n",
    "splane2 = shuffleImage(splane2)\n"
   ]
  },
  {
   "cell_type": "code",
   "execution_count": 10,
   "id": "16299b87",
   "metadata": {},
   "outputs": [
    {
     "name": "stdout",
     "output_type": "stream",
     "text": [
      "MSE:  14994.516927083334\n",
      "RMSE:  122.45210054173565\n",
      "PSNR:  6.37147882054891\n",
      "SSIM:  (-0.23404130503071907, -0.25534726548915415)\n",
      "UQI:  0.6517378792133165\n",
      "MSSSIM:  (-0.09443414008018206+0.21728735389883974j)\n",
      "ERGAS:  36682.077860113146\n",
      "SCC:  0.048439604373046195\n",
      "RASE:  5295.326367627331\n",
      "SAM:  0.818323508688807\n",
      "VIF:  0.02986735009726718\n"
     ]
    },
    {
     "data": {
      "image/png": "[encoded data removed]",
      "text/plain": [
       "<Figure size 432x288 with 2 Axes>"
      ]
     },
     "metadata": {
      "needs_background": "light"
     },
     "output_type": "display_data"
    }
   ],
   "source": [
    "list1 = [dog1, dog2] \n",
    "fig, axs = plt.subplots(1, 2) \n",
    "for idx, ax in enumerate(axs.ravel()):\n",
    "    ax.imshow(list1[idx], cmap=plt.cm.binary)\n",
    "    ax.axis(\"off\")\n",
    "    \n",
    "diffr(dog1, dog2)"
   ]
  },
  {
   "cell_type": "code",
   "execution_count": 11,
   "id": "01444141",
   "metadata": {},
   "outputs": [
    {
     "name": "stdout",
     "output_type": "stream",
     "text": [
      "MSE:  13136.430989583334\n",
      "RMSE:  114.61427044475454\n",
      "PSNR:  6.94602972209532\n",
      "SSIM:  (-0.014694406849579804, -0.016114319023511233)\n",
      "UQI:  0.65005351771701\n",
      "MSSSIM:  (0.49377524280981266+0.06995811967267786j)\n",
      "ERGAS:  32962.81042869054\n",
      "SCC:  -0.03576490235859132\n",
      "RASE:  4756.697060268303\n",
      "SAM:  0.7558076335410089\n",
      "VIF:  0.03281509411231467\n"
     ]
    },
    {
     "data": {
      "image/png": "[encoded data removed]",
      "text/plain": [
       "<Figure size 432x288 with 2 Axes>"
      ]
     },
     "metadata": {
      "needs_background": "light"
     },
     "output_type": "display_data"
    }
   ],
   "source": [
    "list1 = [sdog1, sdog2] \n",
    "fig, axs = plt.subplots(1, 2) \n",
    "for idx, ax in enumerate(axs.ravel()):\n",
    "    ax.imshow(list1[idx], cmap=plt.cm.binary)\n",
    "    ax.axis(\"off\")\n",
    "    \n",
    "diffr(sdog1, sdog2)"
   ]
  },
  {
   "cell_type": "code",
   "execution_count": 12,
   "id": "f05411c8",
   "metadata": {},
   "outputs": [
    {
     "name": "stdout",
     "output_type": "stream",
     "text": [
      "MSE:  18198.359375\n",
      "RMSE:  134.90129493448163\n",
      "PSNR:  5.530481237894747\n",
      "SSIM:  (-0.20902904972405476, -0.23366716194109882)\n",
      "UQI:  0.4845157885316076\n",
      "MSSSIM:  (-0.13545703034014556+0.31167859065179226j)\n",
      "ERGAS:  88070.9238630512\n",
      "SCC:  -0.01558027154428263\n",
      "RASE:  12695.89332300806\n",
      "SAM:  1.0639084549117677\n",
      "VIF:  0.03321502486417676\n"
     ]
    },
    {
     "data": {
      "image/png": "[encoded data removed]",
      "text/plain": [
       "<Figure size 432x288 with 2 Axes>"
      ]
     },
     "metadata": {
      "needs_background": "light"
     },
     "output_type": "display_data"
    }
   ],
   "source": [
    "list1 = [dog1, cat1] \n",
    "fig, axs = plt.subplots(1, 2) \n",
    "for idx, ax in enumerate(axs.ravel()):\n",
    "    ax.imshow(list1[idx], cmap=plt.cm.binary)\n",
    "    ax.axis(\"off\")\n",
    "    \n",
    "diffr(list1[0], list1[1])"
   ]
  },
  {
   "cell_type": "code",
   "execution_count": 13,
   "id": "3468740c",
   "metadata": {},
   "outputs": [
    {
     "name": "stdout",
     "output_type": "stream",
     "text": [
      "MSE:  12314.868489583334\n",
      "RMSE:  110.97237714667256\n",
      "PSNR:  7.2265058249654235\n",
      "SSIM:  (0.01961500128196815, 0.019665489855254268)\n",
      "UQI:  0.6441366591659838\n",
      "MSSSIM:  (0.4704058149089496+0j)\n",
      "ERGAS:  45054.14241507769\n",
      "SCC:  0.010281675764753086\n",
      "RASE:  6501.058113615611\n",
      "SAM:  0.8591839848200363\n",
      "VIF:  0.03065714130563621\n"
     ]
    },
    {
     "data": {
      "image/png": "[encoded data removed]",
      "text/plain": [
       "<Figure size 432x288 with 2 Axes>"
      ]
     },
     "metadata": {
      "needs_background": "light"
     },
     "output_type": "display_data"
    }
   ],
   "source": [
    "list1 = [sdog1, scat1] \n",
    "fig, axs = plt.subplots(1, 2) \n",
    "for idx, ax in enumerate(axs.ravel()):\n",
    "    ax.imshow(list1[idx], cmap=plt.cm.binary)\n",
    "    ax.axis(\"off\")\n",
    "    \n",
    "diffr(list1[0], list1[1])"
   ]
  },
  {
   "cell_type": "code",
   "execution_count": 14,
   "id": "54426140",
   "metadata": {},
   "outputs": [
    {
     "name": "stdout",
     "output_type": "stream",
     "text": [
      "MSE:  0.0\n",
      "RMSE:  0.0\n",
      "PSNR:  inf\n",
      "SSIM:  (1.0, 1.0)\n",
      "UQI:  1.0\n",
      "MSSSIM:  (1+0j)\n",
      "ERGAS:  0.0\n",
      "SCC:  1.0\n",
      "RASE:  0.0\n",
      "SAM:  0.0\n",
      "VIF:  0.99999999999311\n"
     ]
    },
    {
     "data": {
      "image/png": "[encoded data removed]",
      "text/plain": [
       "<Figure size 432x288 with 2 Axes>"
      ]
     },
     "metadata": {
      "needs_background": "light"
     },
     "output_type": "display_data"
    }
   ],
   "source": [
    "list1 = [dog1, dog1] \n",
    "fig, axs = plt.subplots(1, 2) \n",
    "for idx, ax in enumerate(axs.ravel()):\n",
    "    ax.imshow(list1[idx], cmap=plt.cm.binary)\n",
    "    ax.axis(\"off\")\n",
    "    \n",
    "diffr(list1[0], list1[1])"
   ]
  },
  {
   "cell_type": "code",
   "execution_count": 15,
   "id": "b4bcf98e",
   "metadata": {},
   "outputs": [
    {
     "data": {
      "text/plain": [
       "True"
      ]
     },
     "execution_count": 15,
     "metadata": {},
     "output_type": "execute_result"
    }
   ],
   "source": [
    "cv2.imwrite('shuffle_cat.png', scat1)\n",
    "cv2.imwrite('shuffle_dog.png', sdog1)\n",
    "noise = np.random.uniform(low=0, high=225, size=( 32, 32, 3))\n",
    "noise = np.int8(noise)\n",
    "cv2.imwrite('noise.png', noise)"
   ]
  },
  {
   "cell_type": "code",
   "execution_count": 20,
   "id": "ccc98dc9",
   "metadata": {},
   "outputs": [],
   "source": [
    "dic = {\"MSE\": mse(dog,cat),\n",
    "       \"RMSE\": rmse(dog, cat),\n",
    "       \"PSNR\": psnr(dog, cat),\n",
    "       \"SSIM\": ssim(dog, cat),\n",
    "       \"UQI\": uqi(dog, cat),\n",
    "       \"MSSSIM\": msssim(dog, cat),\n",
    "       \"ERGAS\": ergas(dog, cat),\n",
    "       \"SCC\": scc(dog, cat),\n",
    "       \"RASE\": rase(dog, cat),\n",
    "       \"SAM\": sam(dog, cat),\n",
    "       \"VIF\":  vifp(dog, cat)\n",
    "      }"
   ]
  },
  {
   "cell_type": "code",
   "execution_count": 4,
   "id": "ebbb5109",
   "metadata": {},
   "outputs": [],
   "source": [
    "dog = cv2.imread('dog.png')\n",
    "cat = cv2.imread('cat.png')"
   ]
  },
  {
   "cell_type": "code",
   "execution_count": 5,
   "id": "b7a86d7f",
   "metadata": {},
   "outputs": [
    {
     "data": {
      "text/plain": [
       "True"
      ]
     },
     "execution_count": 5,
     "metadata": {},
     "output_type": "execute_result"
    }
   ],
   "source": [
    "sdog = np.copy(dog)\n",
    "scat = np.copy(cat)\n",
    "\n",
    "sdog = shuffleImage(sdog)\n",
    "scat = shuffleImage(scat)\n",
    "\n",
    "cv2.imwrite('shuffle_cat.png', scat)\n",
    "cv2.imwrite('shuffle_dog.png', sdog)"
   ]
  },
  {
   "cell_type": "code",
   "execution_count": null,
   "id": "b8b76d72",
   "metadata": {},
   "outputs": [],
   "source": []
  }
 ],
 "metadata": {
  "kernelspec": {
   "display_name": "Python 3 (ipykernel)",
   "language": "python",
   "name": "python3"
  },
  "language_info": {
   "codemirror_mode": {
    "name": "ipython",
    "version": 3
   },
   "file_extension": ".py",
   "mimetype": "text/x-python",
   "name": "python",
   "nbconvert_exporter": "python",
   "pygments_lexer": "ipython3",
   "version": "3.7.6"
  }
 },
 "nbformat": 4,
 "nbformat_minor": 5
}
