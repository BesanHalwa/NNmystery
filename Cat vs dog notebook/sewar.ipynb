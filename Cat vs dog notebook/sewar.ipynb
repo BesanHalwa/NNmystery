{
 "cells": [
  {
   "cell_type": "code",
   "execution_count": 1,
   "metadata": {},
   "outputs": [],
   "source": [
    "from sewar.full_ref import mse, rmse, psnr, uqi, ssim, ergas, scc, rase, sam, msssim, vifp\n",
    "import matplotlib.pyplot as plt\n",
    "import cv2\n",
    "import numpy as np\n",
    "import random\n",
    "import glob\n",
    "import csv"
   ]
  },
  {
   "cell_type": "code",
   "execution_count": 2,
   "metadata": {},
   "outputs": [],
   "source": [
    "def shuffle(dset):\n",
    "    dset = np.asarray(dset, dtype=np.int8)\n",
    "    samples, height, width, channel = dset.shape\n",
    "    sdset = np.copy(dset)\n",
    "    sdset = np.reshape(sdset, (samples, height*width*channel)) \n",
    "    \n",
    "    for im in range(samples):\n",
    "        random.shuffle(sdset[im])\n",
    "    \n",
    "    sdset = np.reshape(sdset, (samples, height, width, channel))\n",
    "    return sdset"
   ]
  },
  {
   "cell_type": "code",
   "execution_count": 3,
   "metadata": {},
   "outputs": [],
   "source": [
    "def diffr(dset, sample, filename):\n",
    "    with open(filename+'.csv', 'w', newline='') as csvfile:\n",
    "        fieldnames = ['MSE', 'RMSE', 'PSNR', 'SSIM', 'UQI', 'MSSSIM', 'ERGAS', 'SCC', 'RASE', 'SAM', 'VIF']\n",
    "        writer = csv.DictWriter(csvfile, fieldnames=fieldnames)\n",
    "        writer.writeheader()\n",
    "\n",
    "        for i in range(1000):\n",
    "            dic = {\"MSE\": mse(dset[i],sample),\n",
    "               \"RMSE\": rmse(dset[i], sample),\n",
    "               \"PSNR\": psnr(dset[i], sample),\n",
    "               \"SSIM\": ssim(dset[i], sample),\n",
    "               \"UQI\": uqi(dset[i], sample),\n",
    "               \"MSSSIM\": msssim(dset[i], sample),\n",
    "               \"ERGAS\": ergas(dset[i], sample),\n",
    "               \"SCC\": scc(dset[i], sample),\n",
    "               \"RASE\": rase(dset[i], sample),\n",
    "               \"SAM\": sam(dset[i], sample),\n",
    "               \"VIF\":  vifp(dset[i], sample)\n",
    "              }\n",
    "\n",
    "            writer.writerow(dic)"
   ]
  },
  {
   "cell_type": "code",
   "execution_count": 4,
   "metadata": {},
   "outputs": [],
   "source": [
    "\"\"\"\n",
    "#cat variable\n",
    "cats = np.zeros((1000, 32, 32, 3))\n",
    "cats = np.int8(cats)\n",
    "\n",
    "#dog variable\n",
    "dogs = np.zeros((1000, 32, 32, 3))\n",
    "dogs = np.int8(cats)\n",
    "\n",
    "#load cats\n",
    "i = 0\n",
    "for cat in glob.glob(\"cat/*.png\"):\n",
    "    cats[i] = cv2.imread(cat)\n",
    "    i = i + 1\n",
    "    \n",
    "#load dogs\n",
    "    i = 0\n",
    "for dog in glob.glob(\"dog/*.png\"):\n",
    "    dogs[i] = cv2.imread(dog)\n",
    "    i = i + 1\n",
    "\n",
    "\"\"\"\n",
    "    \n",
    "cats = []\n",
    "i = 0\n",
    "for cat in glob.glob(\"cat/*.png\"):\n",
    "    im = cv2.imread(cat)\n",
    "    cats.append(im)\n",
    "    i = i + 1\n",
    "    \n",
    "dogs = []\n",
    "i = 0\n",
    "for dog in glob.glob(\"dog/*.png\"):\n",
    "    im = cv2.imread(dog)\n",
    "    dogs.append(im)\n",
    "    i = i + 1\n",
    "  \n",
    "    \n"
   ]
  },
  {
   "cell_type": "code",
   "execution_count": 5,
   "metadata": {},
   "outputs": [],
   "source": [
    "#shuffle cat pixels\n",
    "cats_shuffle = shuffle(cats)\n",
    "\n",
    "#shuffle dog pixels\n",
    "dogs_shuffle = shuffle(dogs)\n",
    "\n",
    "\n",
    "#Load Samples\n",
    "cat_sample = cv2.imread('cat.png')\n",
    "dog_sample = cv2.imread('dog.png')\n",
    "cat_sample_shuffle = cv2.imread('shuffle_cat.png')\n",
    "dog_sample_shuffle = cv2.imread('shuffle_dog.png')\n",
    "noise = cv2.imread('noise.png')"
   ]
  },
  {
   "cell_type": "code",
   "execution_count": 6,
   "metadata": {},
   "outputs": [
    {
     "name": "stderr",
     "output_type": "stream",
     "text": [
      "Clipping input data to the valid range for imshow with RGB data ([0..1] for floats or [0..255] for integers).\n"
     ]
    },
    {
     "data": {
      "image/png": "[encoded data removed]",
      "text/plain": [
       "<Figure size 432x288 with 2 Axes>"
      ]
     },
     "metadata": {
      "needs_background": "light"
     },
     "output_type": "display_data"
    }
   ],
   "source": [
    "list1 = [dogs[200], dogs_shuffle[200]] \n",
    "fig, axs = plt.subplots(1, 2) \n",
    "for idx, ax in enumerate(axs.ravel()):\n",
    "    ax.imshow(list1[idx], cmap=plt.cm.binary)\n",
    "    ax.axis(\"off\")\n",
    "    "
   ]
  },
  {
   "cell_type": "code",
   "execution_count": 7,
   "metadata": {},
   "outputs": [
    {
     "data": {
      "text/plain": [
       "numpy.ndarray"
      ]
     },
     "execution_count": 7,
     "metadata": {},
     "output_type": "execute_result"
    }
   ],
   "source": [
    "type(dogs_shuffle)\n",
    "type(cats_shuffle)"
   ]
  },
  {
   "cell_type": "code",
   "execution_count": 8,
   "metadata": {},
   "outputs": [
    {
     "name": "stderr",
     "output_type": "stream",
     "text": [
      "/Library/Frameworks/Python.framework/Versions/3.7/lib/python3.7/site-packages/sewar/full_ref.py:248: RuntimeWarning: divide by zero encountered in true_divide\n",
      "  rase_map = (100./M) * np.sqrt( np.sum(rmse_map**2,axis=2) / N )\n",
      "/Library/Frameworks/Python.framework/Versions/3.7/lib/python3.7/site-packages/sewar/utils.py:18: UserWarning: Supplied images have different dtypes int8 and uint8\n",
      "  warnings.warn(msg)\n"
     ]
    }
   ],
   "source": [
    "########################################################\n",
    "###  Col 1              |   Col 2                    ###\n",
    "###  -------------------|----------------------------###\n",
    "###  dogs               |   dog_sample               ###\n",
    "###  dogs_shuffle       |   cat_sample               ###\n",
    "###  cats               |   dog_sample_shuffle       ###\n",
    "###  cats_shuffle       |   cat_sample_shuffle       ###\n",
    "###                     |   noise                    ###\n",
    "########################################################\n",
    "\n",
    "\n",
    "\n",
    "diffr(dogs, dog_sample, 'dogVS1000dogs')\n",
    "diffr(dogs, cat_sample, 'catVS1000dogs')\n",
    "diffr(dogs, dog_sample_shuffle, 'SdogVS1000dogs')\n",
    "diffr(dogs, cat_sample_shuffle, 'ScatVS1000dogs')\n",
    "diffr(dogs, noise, 'noiseVS1000dogs')\n",
    "\n",
    "diffr(dogs_shuffle, dog_sample, 'dogVS1000Sdogs')\n",
    "diffr(dogs_shuffle, cat_sample, 'catVS1000Sdogs')\n",
    "diffr(dogs_shuffle, dog_sample_shuffle, 'SdogVS1000Sdogs')\n",
    "diffr(dogs_shuffle, cat_sample_shuffle, 'ScatVS1000Sdogs')\n",
    "diffr(dogs_shuffle, noise, 'noiseVS1000Sdogs')\n",
    "\n",
    "diffr(cats, cat_sample, 'catVS1000cats')\n",
    "diffr(cats, dog_sample, 'dogVS1000cats')\n",
    "diffr(cats, dog_sample_shuffle, 'SdogVS1000cats')\n",
    "diffr(cats, cat_sample_shuffle, 'ScatVS1000cats')\n",
    "diffr(cats, noise, 'noiseVS1000cats')\n",
    "\n",
    "diffr(cats_shuffle, cat_sample, 'catVS1000Scats')\n",
    "diffr(cats_shuffle, dog_sample, 'dogVS1000Scats')\n",
    "diffr(cats_shuffle, dog_sample_shuffle, 'SdogVS1000Scats')\n",
    "diffr(cats_shuffle, cat_sample_shuffle, 'ScatVS1000Scats')\n",
    "diffr(cats_shuffle, noise, 'noiseVS1000Scats')"
   ]
  },
  {
   "cell_type": "code",
   "execution_count": null,
   "metadata": {},
   "outputs": [],
   "source": []
  },
  {
   "cell_type": "code",
   "execution_count": null,
   "metadata": {},
   "outputs": [],
   "source": []
  },
  {
   "cell_type": "code",
   "execution_count": null,
   "metadata": {},
   "outputs": [],
   "source": []
  },
  {
   "cell_type": "code",
   "execution_count": null,
   "metadata": {},
   "outputs": [],
   "source": []
  }
 ],
 "metadata": {
  "kernelspec": {
   "display_name": "Python 3",
   "language": "python",
   "name": "python3"
  },
  "language_info": {
   "codemirror_mode": {
    "name": "ipython",
    "version": 3
   },
   "file_extension": ".py",
   "mimetype": "text/x-python",
   "name": "python",
   "nbconvert_exporter": "python",
   "pygments_lexer": "ipython3",
   "version": "3.7.6"
  }
 },
 "nbformat": 4,
 "nbformat_minor": 5
}
